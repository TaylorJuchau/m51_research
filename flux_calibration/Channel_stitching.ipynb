{
 "cells": [
  {
   "cell_type": "code",
   "execution_count": 1,
   "id": "64e5bca0-739f-48fd-b75c-9634bdd26fda",
   "metadata": {},
   "outputs": [
    {
     "name": "stdout",
     "output_type": "stream",
     "text": [
      "True\n",
      "/d/ret1/Taylor/stpsf-data/\n"
     ]
    }
   ],
   "source": [
    "import numpy as np\n",
    "import matplotlib.pyplot as plt\n",
    "from tabulate import tabulate\n",
    "from pathlib import Path\n",
    "\n",
    "import os\n",
    "import glob\n",
    "import re\n",
    "import sys\n",
    "\n",
    "from ipywidgets import interact, Dropdown\n",
    "\n",
    "from photutils.aperture import CircularAperture, aperture_photometry\n",
    "from spectral_cube import SpectralCube\n",
    "from scipy.interpolate import interp1d\n",
    "from astropy.time import Time\n",
    "from astropy.coordinates import SkyCoord\n",
    "from astropy.table import Table\n",
    "import astropy.units as u\n",
    "from astropy.wcs import WCS\n",
    "from astropy.constants import c\n",
    "from astropy.io import fits\n",
    "from astropy.visualization import simple_norm, imshow_norm\n",
    "\n",
    "home_directory = \"/d/ret1/Taylor/jupyter_notebooks/Research\" \n",
    "parent_dir = Path(home_directory).resolve() #TJ current notebook's parent directory\n",
    "os.chdir(parent_dir) #TJ change working directory to be the parent directory\n",
    "\n",
    "from Py_files.Basic_analysis import * #TJ import basic functions from custom package\n",
    "from Py_files.Image_vs_spectra import *\n",
    "from Py_files.Convolution_script import *\n",
    "\n",
    "#IFU_files = glob.glob('Data_files/IFU_files/*s3d.fits') #TJ this is not correctly sorted, run this and copy into line below\n",
    "IFU_files = [ 'Data_files/IFU_files/jw03435-o012_t014_nirspec_g140m-f100lp_s3d.fits',\n",
    "             'Data_files/IFU_files/jw03435-o012_t014_nirspec_g235m-f170lp_s3d.fits',\n",
    "             'Data_files/IFU_files/jw03435-o012_t014_nirspec_g395m-f290lp_s3d.fits',\n",
    "             'Data_files/IFU_files/SW_IFU_ch1-shortmediumlong_s3d.fits',\n",
    "             'Data_files/IFU_files/SW_IFU_ch2-shortmediumlong_s3d.fits',\n",
    "             'Data_files/IFU_files/SW_IFU_ch3-shortmediumlong_s3d.fits',\n",
    "             'Data_files/IFU_files/SW_IFU_ch4-shortmediumlong_s3d.fits',\n",
    "            ]\n",
    "image_files, filter_files = generate_list_of_files()\n",
    "filter_names = ['F115W', 'F140M', 'F150W', 'F164N', 'F182M', 'F187N', 'F200W', 'F210M', 'F212N', 'F250M', 'F300M', 'F335M', 'F360M', 'F405N', \n",
    "           'F430M', 'F444W', 'F560W', 'F770W', 'F1000W', 'F1130W', 'F1280W', 'F1500W', 'F1800W', 'F2100W'] \n"
   ]
  },
  {
   "cell_type": "code",
   "execution_count": 15,
   "id": "02743095-9470-425b-bd5e-f6769692f66c",
   "metadata": {},
   "outputs": [],
   "source": [
    "def which_fits(filter_file, list_of_fits):\n",
    "    '''open the filter file, determine the range of wavelengths needed to compute synthetic flux through it, return which fits files\n",
    "    are needed for this particular filter. This is to save time not convolving cubes we dont need.\n",
    "    -------------\n",
    "    \n",
    "    Parameters\n",
    "    -------------\n",
    "    filter_file : type = str - string to location of filter file that we are interested in.\n",
    "    list_of_fits : type = list - list of strings to the IFU fits files that you want to check\n",
    "    \n",
    "    Returns\n",
    "    -------------\n",
    "    needed_fits : type = list - list of strings to the fits files that are actually needed\n",
    "    '''   \n",
    "    filter_data = []\n",
    "    with open(filter_file, 'r') as f:\n",
    "            header = f.readline().strip().split()\n",
    "            for line in f:\n",
    "                data_line = line.strip().split()\n",
    "                filter_data.append(data_line)\n",
    "            \n",
    "    header, filter_T = filter_data[:2], np.array(filter_data[2:])\n",
    "\n",
    "    wl = [try_float(filter_T[i,0])*1e-10 for i in range(len(filter_T))]\n",
    "    T = [try_float(filter_T[i,1]) for i in range(len(filter_T))]\n",
    "    \n",
    "    min_wl, max_wl = min(wl), max(wl)\n",
    "    needed_fits = []\n",
    "    for file in list_of_fits:\n",
    "        cube = SpectralCube.read(file, hdu='SCI')\n",
    "        wavelength = cube.spectral_axis\n",
    "        if (wavelength[0].value*1e-6 < max_wl) and (wavelength[-1].value*1e-6 > min_wl):\n",
    "            needed_fits.append(file)\n",
    "    return needed_fits\n",
    "\n",
    "\n",
    "\n",
    "loc = [202.4340450, 47.1732517] \n",
    "radius = 0.75*u.arcsec\n",
    "def combine_spectra(first, next, loc, radius, show_plot = False):\n",
    "    '''extract the spectrum from a region specified by loc and radius from each IFU file, then stitch them together\n",
    "    This function subtracts the next spectrum from the first spectrum in the overlapping region, takes the median of the\n",
    "    difference, then adds that difference to the next spectrum to get the new values. overlapping region is overwritten\n",
    "    by the corrected next spectrum.\n",
    "    -------------\n",
    "    \n",
    "    Parameters\n",
    "    -------------\n",
    "    first : type = str - string to location of IFU fits with shorter wavelength of the two\n",
    "                ****This can also be an already combined spectrum for iterative stitching\n",
    "    next : type = str - string to the location of the IFU fits file with the longer wavelengths (should have an overlap)\n",
    "    loc : type = list - ra, dec in degrees or SkyCoord object\n",
    "    radius : type = float - radius of aperture with units\n",
    "    show_plot (optional, defaults to False) : type = boolean - show plot of the stitched spectrum?\n",
    "    \n",
    "    Returns\n",
    "    -------------\n",
    "    combined spectrum : dictionary has entries for ['wavelength'] and ['intensity'] which span the full range of the two files\n",
    "    '''   \n",
    "\n",
    "    if type(first) == str:\n",
    "        \n",
    "        first_IFU_hdul = fits.open(first)\n",
    "        first_header = first_IFU_hdul[\"SCI\"].header\n",
    "        first_cube = SpectralCube.read(first, hdu='SCI')\n",
    "        first_wcs = WCS(first_header)\n",
    "        first_spectral_axis = first_cube.spectral_axis\n",
    "        first_spectrum = get_IFU_spectrum(first, loc, radius, replace_negatives = 1e-1)\n",
    "    elif type(first) == dict:\n",
    "        first_spectrum = first\n",
    "    else:\n",
    "        print('first argument was not a dictionary or a string to a file')\n",
    "    next_IFU_hdul = fits.open(next)\n",
    "    next_header = next_IFU_hdul[\"SCI\"].header\n",
    "    next_cube = SpectralCube.read(next, hdu='SCI')\n",
    "    next_wcs = WCS(next_header)\n",
    "    next_spectral_axis = next_cube.spectral_axis\n",
    "    next_spectrum = get_IFU_spectrum(next, loc, radius, replace_negatives = 1e-1)\n",
    "    mask_first = (first_spectrum['wavelength'] >= next_spectrum['wavelength'][0])\n",
    "    mask_next = (next_spectrum['wavelength'] <= first_spectrum['wavelength'][-1])\n",
    "    next_interp = np.interp(first_spectrum['wavelength'][mask_first], next_spectrum['wavelength'][mask_next], next_spectrum['intensity'][mask_next])\n",
    "    diff_spectrum = first_spectrum['intensity'][mask_first] - next_interp\n",
    "    median_diff = np.nanmedian(diff_spectrum)\n",
    "    corrected_next = next_spectrum['intensity'] + median_diff\n",
    "    combined_spectrum = {\n",
    "    'wavelength': np.concatenate([first_spectrum['wavelength'][~mask_first], next_spectrum['wavelength']]),\n",
    "    'intensity': np.concatenate([first_spectrum['intensity'][~mask_first], corrected_next])\n",
    "    }\n",
    "    if show_plot:\n",
    "        \n",
    "        plt.plot(combined_spectrum['wavelength'], combined_spectrum['intensity'], color = 'red', label = 'combined')\n",
    "        plt.plot(next_spectrum['wavelength'], next_spectrum['intensity'], color = 'orange', label = 'raw')\n",
    "        plt.yscale('log')\n",
    "        plt.legend()\n",
    "        plt.show()\n",
    "        \n",
    "    return combined_spectrum"
   ]
  },
  {
   "cell_type": "code",
   "execution_count": 28,
   "id": "abddd45e-7346-4540-bac4-99709a404cc6",
   "metadata": {},
   "outputs": [
    {
     "data": {
      "image/png": "[encoded data removed]",
      "text/plain": [
       "<Figure size 640x480 with 1 Axes>"
      ]
     },
     "metadata": {},
     "output_type": "display_data"
    }
   ],
   "source": [
    "for file in filter_files:\n",
    "    filter_data = []\n",
    "    with open(file, 'r') as f:\n",
    "        header = f.readline().strip().split()\n",
    "        for line in f:\n",
    "            data_line = line.strip().split()\n",
    "            filter_data.append(data_line)\n",
    "            \n",
    "        header, filter_T = filter_data[:2], np.array(filter_data[2:])\n",
    "        filter_wl = [try_float(filter_T[i,0])*1e-10 for i in range(len(filter_T))]\n",
    "        filter_trans = [try_float(filter_T[i,1]) for i in range(len(filter_T))]\n",
    "    plt.plot(filter_wl,filter_trans)\n",
    "[plt.axvline(x=i, color = 'red') for i in starts]\n",
    "[plt.axvline(x=i, color = 'blue') for i in ends]\n",
    "plt.xscale('log')"
   ]
  },
  {
   "cell_type": "code",
   "execution_count": 3,
   "id": "3f5330e6-cb88-487b-b83a-9af6f9f7a2f0",
   "metadata": {},
   "outputs": [
    {
     "name": "stdout",
     "output_type": "stream",
     "text": [
      "for filter F115W we need: ['Data_files/IFU_files/jw03435-o012_t014_nirspec_g140m-f100lp_s3d.fits']\n",
      "image file selected as Data_files/Image_files/ngc5194_nircam_lv3_f115w_i2d.fits\n"
     ]
    },
    {
     "data": {
      "application/vnd.jupyter.widget-view+json": {
       "model_id": "4343c297de9140be922d2f8a259f7c1d",
       "version_major": 2,
       "version_minor": 0
      },
      "text/plain": [
       "Convolving to F115W:   0%|          | 0/1447 [00:00<?, ?it/s]"
      ]
     },
     "metadata": {},
     "output_type": "display_data"
    },
    {
     "name": "stdout",
     "output_type": "stream",
     "text": [
      "✅ PSF convolution complete and saved as f100lp_s3dIFU_convolved_tof115w.fits\n",
      "IFU 9.703180286160204e-07 1.8899740453634867e-06\n",
      "filter 9.892e-07 1.3282e-06\n",
      "for filter F140M we need: ['Data_files/IFU_files/jw03435-o012_t014_nirspec_g140m-f100lp_s3d.fits']\n",
      "image file selected as Data_files/Image_files/ngc5194_nircam_lv3_f140m_i2d.fits\n"
     ]
    },
    {
     "data": {
      "application/vnd.jupyter.widget-view+json": {
       "model_id": "ade8058caef240bfa044ffe51fdb1c0b",
       "version_major": 2,
       "version_minor": 0
      },
      "text/plain": [
       "Convolving to F140M:   0%|          | 0/1447 [00:00<?, ?it/s]"
      ]
     },
     "metadata": {},
     "output_type": "display_data"
    },
    {
     "name": "stdout",
     "output_type": "stream",
     "text": [
      "✅ PSF convolution complete and saved as f100lp_s3dIFU_convolved_tof140m.fits\n",
      "IFU 9.703180286160204e-07 1.8899740453634867e-06\n",
      "filter 1.28235e-06 1.5363500000000001e-06\n",
      "for filter F150W we need: ['Data_files/IFU_files/jw03435-o012_t014_nirspec_g140m-f100lp_s3d.fits', 'Data_files/IFU_files/jw03435-o012_t014_nirspec_g235m-f170lp_s3d.fits']\n",
      "image file selected as Data_files/Image_files/ngc5194_nircam_lv3_f150w_i2d.fits\n"
     ]
    },
    {
     "data": {
      "application/vnd.jupyter.widget-view+json": {
       "model_id": "6b8a45a91efc485186ea3b0e09665315",
       "version_major": 2,
       "version_minor": 0
      },
      "text/plain": [
       "Convolving to F150W:   0%|          | 0/1447 [00:00<?, ?it/s]"
      ]
     },
     "metadata": {},
     "output_type": "display_data"
    },
    {
     "name": "stdout",
     "output_type": "stream",
     "text": [
      "✅ PSF convolution complete and saved as f100lp_s3dIFU_convolved_tof150w.fits\n"
     ]
    },
    {
     "data": {
      "application/vnd.jupyter.widget-view+json": {
       "model_id": "98486150dd5a4fdb9848795becd527ce",
       "version_major": 2,
       "version_minor": 0
      },
      "text/plain": [
       "Convolving to F150W:   0%|          | 0/1425 [00:00<?, ?it/s]"
      ]
     },
     "metadata": {},
     "output_type": "display_data"
    },
    {
     "ename": "RuntimeError",
     "evalue": "The requested wavelengths are too long for NIRCam short wave channel.",
     "output_type": "error",
     "traceback": [
      "\u001b[0;31m---------------------------------------------------------------------------\u001b[0m",
      "\u001b[0;31mRuntimeError\u001b[0m                              Traceback (most recent call last)",
      "Cell \u001b[0;32mIn[3], line 12\u001b[0m\n\u001b[1;32m     10\u001b[0m \u001b[38;5;28;01mfor\u001b[39;00m IFU_file \u001b[38;5;129;01min\u001b[39;00m needed_fits:\n\u001b[1;32m     11\u001b[0m     instrument \u001b[38;5;241m=\u001b[39m \u001b[38;5;124m'\u001b[39m\u001b[38;5;124mNIRCam\u001b[39m\u001b[38;5;124m'\u001b[39m \u001b[38;5;28;01mif\u001b[39;00m \u001b[38;5;124m'\u001b[39m\u001b[38;5;124mnirspec\u001b[39m\u001b[38;5;124m'\u001b[39m \u001b[38;5;129;01min\u001b[39;00m IFU_file \u001b[38;5;28;01melse\u001b[39;00m \u001b[38;5;124m\"\u001b[39m\u001b[38;5;124mMIRI\u001b[39m\u001b[38;5;124m\"\u001b[39m\n\u001b[0;32m---> 12\u001b[0m     new_fits\u001b[38;5;241m.\u001b[39mappend(convolve(IFU_file, instrument, extract_filter_name(file)\u001b[38;5;241m.\u001b[39mupper(), output_file \u001b[38;5;241m=\u001b[39m \u001b[38;5;124mf\u001b[39m\u001b[38;5;124m'\u001b[39m\u001b[38;5;132;01m{\u001b[39;00mIFU_file\u001b[38;5;241m.\u001b[39msplit(\u001b[38;5;124m\"\u001b[39m\u001b[38;5;124m-\u001b[39m\u001b[38;5;124m\"\u001b[39m)[\u001b[38;5;241m-\u001b[39m\u001b[38;5;241m1\u001b[39m]\u001b[38;5;241m.\u001b[39msplit(\u001b[38;5;124m\"\u001b[39m\u001b[38;5;124m.f\u001b[39m\u001b[38;5;124m\"\u001b[39m)[\u001b[38;5;241m0\u001b[39m]\u001b[38;5;132;01m}\u001b[39;00m\u001b[38;5;124mIFU_convolved_to\u001b[39m\u001b[38;5;132;01m{\u001b[39;00mextract_filter_name(file)\u001b[38;5;132;01m}\u001b[39;00m\u001b[38;5;124m.fits\u001b[39m\u001b[38;5;124m'\u001b[39m))\n\u001b[1;32m     13\u001b[0m \u001b[38;5;28;01mif\u001b[39;00m \u001b[38;5;28mlen\u001b[39m(needed_fits) \u001b[38;5;241m>\u001b[39m \u001b[38;5;241m1\u001b[39m:\n\u001b[1;32m     14\u001b[0m     spectrum \u001b[38;5;241m=\u001b[39m combine_spectra(new_fits[\u001b[38;5;241m0\u001b[39m], new_fits[\u001b[38;5;241m1\u001b[39m], loc, radius, show_plot \u001b[38;5;241m=\u001b[39m \u001b[38;5;28;01mFalse\u001b[39;00m)\n",
      "File \u001b[0;32m/d/ret1/Taylor/jupyter_notebooks/Research/Py_files/Convolution_script.py:123\u001b[0m, in \u001b[0;36mconvolve\u001b[0;34m(IFU_fits_file, instrument, filter, output_file)\u001b[0m\n\u001b[1;32m    121\u001b[0m \u001b[38;5;66;03m# === Loop through wavelengths and convolve ===\u001b[39;00m\n\u001b[1;32m    122\u001b[0m \u001b[38;5;28;01mfor\u001b[39;00m i, wavelength \u001b[38;5;129;01min\u001b[39;00m \u001b[38;5;28menumerate\u001b[39m(tqdm(spectral_axis, desc\u001b[38;5;241m=\u001b[39m\u001b[38;5;124mf\u001b[39m\u001b[38;5;124m\"\u001b[39m\u001b[38;5;124mConvolving to \u001b[39m\u001b[38;5;132;01m{\u001b[39;00m\u001b[38;5;28mfilter\u001b[39m\u001b[38;5;132;01m}\u001b[39;00m\u001b[38;5;124m\"\u001b[39m)):\n\u001b[0;32m--> 123\u001b[0m     psf \u001b[38;5;241m=\u001b[39m inst\u001b[38;5;241m.\u001b[39mcalc_psf(monochromatic\u001b[38;5;241m=\u001b[39mwavelength\u001b[38;5;241m.\u001b[39mto(u\u001b[38;5;241m.\u001b[39mm)\u001b[38;5;241m.\u001b[39mvalue)    \n\u001b[1;32m    124\u001b[0m     psf_data \u001b[38;5;241m=\u001b[39m psf[\u001b[38;5;241m0\u001b[39m]\u001b[38;5;241m.\u001b[39mdata\n\u001b[1;32m    125\u001b[0m     psf_data \u001b[38;5;241m/\u001b[39m\u001b[38;5;241m=\u001b[39m psf_data\u001b[38;5;241m.\u001b[39msum()  \u001b[38;5;66;03m# Normalize PSF to conserve flux\u001b[39;00m\n",
      "File \u001b[0;32m~/.local/lib/python3.11/site-packages/stpsf/stpsf_core.py:1213\u001b[0m, in \u001b[0;36mJWInstrument.calc_psf\u001b[0;34m(self, outfile, source, nlambda, monochromatic, fov_arcsec, fov_pixels, oversample, detector_oversample, fft_oversample, overwrite, display, save_intermediates, return_intermediates, normalize, add_distortion, crop_psf)\u001b[0m\n\u001b[1;32m   1210\u001b[0m         \u001b[38;5;28mself\u001b[39m\u001b[38;5;241m.\u001b[39mpupil\u001b[38;5;241m.\u001b[39mupdate_opd()\n\u001b[1;32m   1212\u001b[0m \u001b[38;5;66;03m# Run poppy calc_psf\u001b[39;00m\n\u001b[0;32m-> 1213\u001b[0m psf \u001b[38;5;241m=\u001b[39m SpaceTelescopeInstrument\u001b[38;5;241m.\u001b[39mcalc_psf(\n\u001b[1;32m   1214\u001b[0m     \u001b[38;5;28mself\u001b[39m,\n\u001b[1;32m   1215\u001b[0m     outfile\u001b[38;5;241m=\u001b[39moutfile,\n\u001b[1;32m   1216\u001b[0m     source\u001b[38;5;241m=\u001b[39msource,\n\u001b[1;32m   1217\u001b[0m     nlambda\u001b[38;5;241m=\u001b[39mnlambda,\n\u001b[1;32m   1218\u001b[0m     monochromatic\u001b[38;5;241m=\u001b[39mmonochromatic,\n\u001b[1;32m   1219\u001b[0m     fov_arcsec\u001b[38;5;241m=\u001b[39mfov_arcsec,\n\u001b[1;32m   1220\u001b[0m     fov_pixels\u001b[38;5;241m=\u001b[39mfov_pixels,\n\u001b[1;32m   1221\u001b[0m     oversample\u001b[38;5;241m=\u001b[39moversample,\n\u001b[1;32m   1222\u001b[0m     detector_oversample\u001b[38;5;241m=\u001b[39mdetector_oversample,\n\u001b[1;32m   1223\u001b[0m     fft_oversample\u001b[38;5;241m=\u001b[39mfft_oversample,\n\u001b[1;32m   1224\u001b[0m     overwrite\u001b[38;5;241m=\u001b[39moverwrite,\n\u001b[1;32m   1225\u001b[0m     display\u001b[38;5;241m=\u001b[39mdisplay,\n\u001b[1;32m   1226\u001b[0m     save_intermediates\u001b[38;5;241m=\u001b[39msave_intermediates,\n\u001b[1;32m   1227\u001b[0m     return_intermediates\u001b[38;5;241m=\u001b[39mreturn_intermediates,\n\u001b[1;32m   1228\u001b[0m     normalize\u001b[38;5;241m=\u001b[39mnormalize,\n\u001b[1;32m   1229\u001b[0m )\n\u001b[1;32m   1231\u001b[0m \u001b[38;5;28;01mreturn\u001b[39;00m psf\n",
      "File \u001b[0;32m~/.local/lib/python3.11/site-packages/poppy/instrument.py:251\u001b[0m, in \u001b[0;36mInstrument.calc_psf\u001b[0;34m(self, outfile, source, nlambda, monochromatic, fov_arcsec, fov_pixels, oversample, detector_oversample, fft_oversample, overwrite, display, save_intermediates, return_intermediates, normalize)\u001b[0m\n\u001b[1;32m    247\u001b[0m wavelens, weights \u001b[38;5;241m=\u001b[39m \u001b[38;5;28mself\u001b[39m\u001b[38;5;241m.\u001b[39m_get_weights(source\u001b[38;5;241m=\u001b[39msource, nlambda\u001b[38;5;241m=\u001b[39mlocal_options[\u001b[38;5;124m'\u001b[39m\u001b[38;5;124mnlambda\u001b[39m\u001b[38;5;124m'\u001b[39m],\n\u001b[1;32m    248\u001b[0m                                       monochromatic\u001b[38;5;241m=\u001b[39mlocal_options[\u001b[38;5;124m'\u001b[39m\u001b[38;5;124mmonochromatic\u001b[39m\u001b[38;5;124m'\u001b[39m])\n\u001b[1;32m    250\u001b[0m \u001b[38;5;66;03m# Validate that the calculation we're about to do makes sense with this instrument config\u001b[39;00m\n\u001b[0;32m--> 251\u001b[0m \u001b[38;5;28mself\u001b[39m\u001b[38;5;241m.\u001b[39m_validate_config(wavelengths\u001b[38;5;241m=\u001b[39mwavelens)\n\u001b[1;32m    252\u001b[0m poppy_core\u001b[38;5;241m.\u001b[39m_log\u001b[38;5;241m.\u001b[39minfo(\n\u001b[1;32m    253\u001b[0m     \u001b[38;5;124m\"\u001b[39m\u001b[38;5;124mPSF calc using fov_\u001b[39m\u001b[38;5;132;01m%s\u001b[39;00m\u001b[38;5;124m, oversample = \u001b[39m\u001b[38;5;132;01m%d\u001b[39;00m\u001b[38;5;124m, number of wavelengths = \u001b[39m\u001b[38;5;132;01m%d\u001b[39;00m\u001b[38;5;124m\"\u001b[39m \u001b[38;5;241m%\u001b[39m (\n\u001b[1;32m    254\u001b[0m         local_options[\u001b[38;5;124m'\u001b[39m\u001b[38;5;124mfov_spec\u001b[39m\u001b[38;5;124m'\u001b[39m], local_options[\u001b[38;5;124m'\u001b[39m\u001b[38;5;124mdetector_oversample\u001b[39m\u001b[38;5;124m'\u001b[39m], \u001b[38;5;28mlen\u001b[39m(wavelens)\n\u001b[1;32m    255\u001b[0m     )\n\u001b[1;32m    256\u001b[0m )\n\u001b[1;32m    258\u001b[0m \u001b[38;5;66;03m# ---- now at last, actually do the PSF calc:\u001b[39;00m\n\u001b[1;32m    259\u001b[0m \u001b[38;5;66;03m#  instantiate an optical system using the current parameters\u001b[39;00m\n",
      "File \u001b[0;32m~/.local/lib/python3.11/site-packages/stpsf/stpsf_core.py:2887\u001b[0m, in \u001b[0;36mNIRCam._validate_config\u001b[0;34m(self, **kwargs)\u001b[0m\n\u001b[1;32m   2885\u001b[0m     \u001b[38;5;28;01mraise\u001b[39;00m \u001b[38;5;167;01mRuntimeError\u001b[39;00m(\u001b[38;5;124m'\u001b[39m\u001b[38;5;124mThe requested wavelengths are too long to be imaged with NIRCam\u001b[39m\u001b[38;5;124m'\u001b[39m)\n\u001b[1;32m   2886\u001b[0m \u001b[38;5;28;01mif\u001b[39;00m \u001b[38;5;28mself\u001b[39m\u001b[38;5;241m.\u001b[39mchannel \u001b[38;5;241m==\u001b[39m \u001b[38;5;124m'\u001b[39m\u001b[38;5;124mshort\u001b[39m\u001b[38;5;124m'\u001b[39m \u001b[38;5;129;01mand\u001b[39;00m np\u001b[38;5;241m.\u001b[39mmax(wavelengths) \u001b[38;5;241m>\u001b[39m \u001b[38;5;28mself\u001b[39m\u001b[38;5;241m.\u001b[39mSHORT_WAVELENGTH_MAX:\n\u001b[0;32m-> 2887\u001b[0m     \u001b[38;5;28;01mraise\u001b[39;00m \u001b[38;5;167;01mRuntimeError\u001b[39;00m(\u001b[38;5;124m'\u001b[39m\u001b[38;5;124mThe requested wavelengths are too long for NIRCam short wave channel.\u001b[39m\u001b[38;5;124m'\u001b[39m)\n\u001b[1;32m   2888\u001b[0m \u001b[38;5;28;01mif\u001b[39;00m \u001b[38;5;28mself\u001b[39m\u001b[38;5;241m.\u001b[39mchannel \u001b[38;5;241m==\u001b[39m \u001b[38;5;124m'\u001b[39m\u001b[38;5;124mlong\u001b[39m\u001b[38;5;124m'\u001b[39m \u001b[38;5;129;01mand\u001b[39;00m np\u001b[38;5;241m.\u001b[39mmin(wavelengths) \u001b[38;5;241m<\u001b[39m \u001b[38;5;28mself\u001b[39m\u001b[38;5;241m.\u001b[39mLONG_WAVELENGTH_MIN:\n\u001b[1;32m   2889\u001b[0m     \u001b[38;5;28;01mraise\u001b[39;00m \u001b[38;5;167;01mRuntimeError\u001b[39;00m(\u001b[38;5;124m'\u001b[39m\u001b[38;5;124mThe requested wavelengths are too short for NIRCam long wave channel.\u001b[39m\u001b[38;5;124m'\u001b[39m)\n",
      "\u001b[0;31mRuntimeError\u001b[0m: The requested wavelengths are too long for NIRCam short wave channel."
     ]
    }
   ],
   "source": [
    "image_flux = []\n",
    "IFU_flux = []\n",
    "for file in filter_files:\n",
    "    needed_fits = which_fits(file, IFU_files)\n",
    "    print(f'for filter {extract_filter_name(file).upper()} we need: {needed_fits}')\n",
    "    current_filter_name = extract_filter_name(file).upper()\n",
    "    image_file = [img for img in image_files if extract_filter_name(img).upper() == current_filter_name][0]\n",
    "    print(f'image file selected as {image_file}')\n",
    "    new_fits = []\n",
    "    for IFU_file in needed_fits:\n",
    "        instrument = 'NIRCam' if 'nirspec' in IFU_file else \"MIRI\"\n",
    "        new_fits.append(convolve(IFU_file, instrument, extract_filter_name(file).upper(), output_file = f'{IFU_file.split(\"-\")[-1].split(\".f\")[0]}IFU_convolved_to{extract_filter_name(file)}.fits'))\n",
    "    if len(needed_fits) > 1:\n",
    "        spectrum = combine_spectra(new_fits[0], new_fits[1], loc, radius, show_plot = False)\n",
    "    else:\n",
    "        spectrum = get_IFU_spectrum(new_fits[0], loc, radius, replace_negatives = 1e-1)\n",
    "    aperture_area_sr = np.pi * (radius.to(u.rad))**2\n",
    "    filter_data = []\n",
    "    with open(file, 'r') as f:\n",
    "        header = f.readline().strip().split()\n",
    "        for line in f:\n",
    "            data_line = line.strip().split()\n",
    "            filter_data.append(data_line)\n",
    "            \n",
    "    header, filter_T = filter_data[:2], np.array(filter_data[2:])\n",
    "    filter_wl = [try_float(filter_T[i,0])*1e-10 for i in range(len(filter_T))]\n",
    "    filter_trans = [try_float(filter_T[i,1]) for i in range(len(filter_T))]\n",
    "    \n",
    "    print('IFU', spectrum[\"wavelength\"][0], spectrum[\"wavelength\"][-1])\n",
    "    print('filter', filter_wl[0], filter_wl[-1])\n",
    "    \n",
    "    IFU_expected_flux = ((get_Fnu_transmission(spectrum[\"intensity\"], spectrum[\"wavelength\"], filter_trans, filter_wl)))\n",
    "    photo_flux = (get_image_flux(image_file, loc, radius))\n",
    "    IFU_flux.append(IFU_expected_flux)\n",
    "    image_flux.append(photo_flux)\n",
    "IFU_flux = np.array(IFU_flux)\n",
    "image_flux = np.array(image_flux)\n",
    "plt.style.use('seaborn-v0_8-paper')  #TJ just a random style for the plot\n",
    "\n",
    "plt.rcParams.update({'font.size': 12, 'axes.titlesize': 14, 'axes.labelsize': 12}) #TJ \n",
    "# Now plot with sorted data\n",
    "plt.figure(figsize=(10, 6))\n",
    "plt.scatter([extract_filter_name(x) for x in filter_files], IFU_flux/image_flux, label='IFU-determined', s=100, marker='x', color='red')\n",
    "plt.axhline(y=1, color='gray', linestyle='--', linewidth=1, alpha=0.7)\n",
    "plt.xticks(rotation=45, ha='right')\n",
    "plt.tick_params(axis='y', which='both', labelsize=10)\n",
    "plt.legend()\n",
    "plt.xlabel('Filter Names')\n",
    "plt.ylabel('Filter Pass Through (MJy)')\n",
    "plt.title(\"FLux transmitted through filter compared to spectrum-derived expectations \\nNormalized to Spectrum-derived values\")\n",
    "plt.tight_layout()\n",
    "plt.show()"
   ]
  },
  {
   "cell_type": "code",
   "execution_count": null,
   "id": "938b3f08-0b71-4a14-9ec8-a6d6e374be8e",
   "metadata": {},
   "outputs": [],
   "source": [
    "def combine_spectra(first, next, loc, radius, show_plot = False):\n",
    "    '''extract the spectrum from a region specified by loc and radius from each IFU file, then stitch them together\n",
    "    This function subtracts the next spectrum from the first spectrum in the overlapping region, takes the median of the\n",
    "    difference, then adds that difference to the next spectrum to get the new values. overlapping region is overwritten\n",
    "    by the corrected next spectrum.\n",
    "    -------------\n",
    "    \n",
    "    Parameters\n",
    "    -------------\n",
    "    first : type = str - string to location of IFU fits with shorter wavelength of the two\n",
    "                ****This can also be an already combined spectrum for iterative stitching\n",
    "    next : type = str - string to the location of the IFU fits file with the longer wavelengths (should have an overlap)\n",
    "    loc : type = list - ra, dec in degrees or SkyCoord object\n",
    "    radius : type = float - radius of aperture with units\n",
    "    show_plot (optional, defaults to False) : type = boolean - show plot of the stitched spectrum?\n",
    "    \n",
    "    Returns\n",
    "    -------------\n",
    "    combined spectrum : dictionary has entries for ['wavelength'] and ['intensity'] which span the full range of the two files\n",
    "    '''   \n",
    "\n",
    "    if type(first) == str:\n",
    "        \n",
    "        first_IFU_hdul = fits.open(first)\n",
    "        first_header = first_IFU_hdul[\"SCI\"].header\n",
    "        first_cube = SpectralCube.read(first, hdu='SCI')\n",
    "        first_wcs = WCS(first_header)\n",
    "        first_spectral_axis = first_cube.spectral_axis\n",
    "        first_spectrum = get_IFU_spectrum(first, loc, radius, replace_negatives = 1e-1)\n",
    "    elif type(first) == dict:\n",
    "        first_spectrum = first\n",
    "    else:\n",
    "        print('first argument was not a dictionary or a string to a file')\n",
    "    next_IFU_hdul = fits.open(next)\n",
    "    next_header = next_IFU_hdul[\"SCI\"].header\n",
    "    next_cube = SpectralCube.read(next, hdu='SCI')\n",
    "    next_wcs = WCS(next_header)\n",
    "    next_spectral_axis = next_cube.spectral_axis\n",
    "    next_spectrum = get_IFU_spectrum(next, loc, radius, replace_negatives = 1e-1)\n",
    "\n",
    "    \n",
    "    mask_first = (first_spectrum['wavelength'] >= next_spectrum['wavelength'][0])\n",
    "    mask_next = (next_spectrum['wavelength'] <= first_spectrum['wavelength'][-1])\n",
    "\n",
    "    \n",
    "    first_interp = np.interp(next_spectrum['wavelength'][mask_next], first_spectrum['wavelength'][mask_first], first_spectrum['intensity'][mask_first])\n",
    "    diff_spectrum = next_spectrum['intensity'][mask_next] - first_interp\n",
    "    median_diff = np.nanmedian(diff_spectrum)\n",
    "    corrected_first = first_spectrum['intensity'] + median_diff\n",
    "    \n",
    "    combined_spectrum = {\n",
    "    'wavelength': np.concatenate([first_spectrum['wavelength'], next_spectrum['wavelength'][~mask_next]]),\n",
    "    'intensity': np.concatenate([corrected_first, next_spectrum['intensity'][~mask_next]])\n",
    "    }\n",
    "    if show_plot:\n",
    "        \n",
    "        plt.plot(combined_spectrum['wavelength'], combined_spectrum['intensity'], color = 'red', label = 'combined')\n",
    "        plt.plot(next_spectrum['wavelength'], next_spectrum['intensity'], color = 'orange', label = 'raw')\n",
    "        plt.yscale('log')\n",
    "        plt.legend()\n",
    "        plt.show()\n",
    "        \n",
    "    return combined_spectrum"
   ]
  },
  {
   "cell_type": "code",
   "execution_count": null,
   "id": "4e7005e1-2139-4e47-bd28-73e924598618",
   "metadata": {},
   "outputs": [],
   "source": []
  },
  {
   "cell_type": "code",
   "execution_count": null,
   "id": "357dbc70-84e1-4d9f-ae05-809e3f3f1e12",
   "metadata": {},
   "outputs": [],
   "source": [
    "files = ['Data_files/IFU_files/SW_IFU_ch1-shortmediumlong_s3d.fits', 'Data_files/IFU_files/SW_IFU_ch2-shortmediumlong_s3d.fits', \n",
    "         'Data_files/IFU_files/SW_IFU_ch3-shortmediumlong_s3d.fits', 'Data_files/IFU_files/SW_IFU_ch4-shortmediumlong_s3d.fits']\n",
    "loc = [202.4340450, 47.1732517] \n",
    "radius = 0.75*u.arcsec\n",
    "data = []\n",
    "for i, file in enumerate(files):\n",
    "    IFU_hdul = fits.open(file)\n",
    "    header = IFU_hdul[\"SCI\"].header\n",
    "    cube = SpectralCube.read(file, hdu='SCI')\n",
    "    wcs = WCS(header)\n",
    "\n",
    "    spectral_axis = cube.spectral_axis\n",
    "    data.append(get_IFU_spectrum_test(file, loc, radius))\n",
    "    \n",
    "first_end = len(data[0]['wavelength'][data[0]['wavelength'] > data[1]['wavelength'][0]])\n",
    "second_start = len(data[1]['wavelength'][data[1]['wavelength'] < data[0]['wavelength'][-1]])\n",
    "second_end = len(data[1]['wavelength'][data[1]['wavelength'] > data[2]['wavelength'][0]])\n",
    "third_start = len(data[2]['wavelength'][data[2]['wavelength'] < data[1]['wavelength'][-1]])\n",
    "third_end = len(data[2]['wavelength'][data[2]['wavelength'] > data[3]['wavelength'][0]])\n",
    "fourth_start = len(data[3]['wavelength'][data[3]['wavelength'] < data[2]['wavelength'][-1]])"
   ]
  },
  {
   "cell_type": "code",
   "execution_count": null,
   "id": "3beabca6-7888-4c1d-9058-fb79e713cc8e",
   "metadata": {},
   "outputs": [],
   "source": [
    "\n",
    "plt.plot(data[0]['wavelength'][-2*first_end:], data[0]['intensity'][-2*first_end:], color = 'blue', label = 'data1')\n",
    "plt.plot(data[1]['wavelength'][:2*second_start], data[1]['intensity'][:2*second_start], color = 'orange', label = 'data2')\n",
    "plt.show()\n",
    "plt.plot(data[1]['wavelength'][-2*second_end:]*1e+6, data[1]['intensity'][-2*second_end:], color = 'blue', label = 'channel 2')\n",
    "plt.plot(data[2]['wavelength'][:2*third_start]*1e+6, data[2]['intensity'][:2*third_start], color = 'orange', label = 'channel 3')\n",
    "plt.xlabel('wavelength (microns)')\n",
    "plt.ylabel('intensity')\n",
    "plt.title('MIRI Channels 2 and 3 overlapping region')\n",
    "plt.legend()\n",
    "plt.show()\n",
    "plt.plot(data[2]['wavelength'][-2*third_end:]*1e+6, data[2]['intensity'][-2*third_end:], color = 'orange', label = 'channel 3')\n",
    "plt.plot(data[3]['wavelength'][:2*fourth_start]*1e+6, data[3]['intensity'][:2*fourth_start], color = 'green', label = 'channel 4')\n",
    "plt.xlabel('wavelength (microns)')\n",
    "plt.ylabel('intensity')\n",
    "plt.title('MIRI Channels 3 and 4 overlapping region')\n",
    "plt.legend()\n",
    "plt.show()"
   ]
  },
  {
   "cell_type": "code",
   "execution_count": null,
   "id": "6c5679b8-d338-4be7-9816-bc403251d684",
   "metadata": {},
   "outputs": [],
   "source": [
    "plt.plot(data[3]['wavelength'], data[3]['intensity'], color = 'green', label = 'channel 4')\n",
    "plt.xlabel('wavelength (microns)')\n",
    "plt.ylabel('intensity')\n",
    "plt.title('Channels 3 and 4 overlapping region')\n",
    "plt.legend()\n",
    "plt.show()"
   ]
  },
  {
   "cell_type": "code",
   "execution_count": null,
   "id": "f83df656-e68d-45ba-952d-69529c9876b9",
   "metadata": {},
   "outputs": [],
   "source": [
    "\n",
    "\n",
    "\n",
    "from astropy.io import fits\n",
    "from astropy.wcs import WCS\n",
    "from astropy.coordinates import SkyCoord\n",
    "import astropy.units as u\n",
    "import numpy as np\n",
    "from spectral_cube import SpectralCube\n",
    "\n",
    "def find_point_spectrum(IFU_filepath, loc):\n",
    "    '''extract the pixel spectrum with bilinear interpolation for a location in ra,dec\n",
    "    -------------\n",
    "    \n",
    "    Parameters\n",
    "    -------------\n",
    "    IFU_filepath : type = str - string to location of IFU fits file\n",
    "    loc : type = list - ra, dec in degrees or SkyCoord object\n",
    "    \n",
    "    Returns\n",
    "    -------------\n",
    "    SpectralCube slice corresponding to the interpolated spectrum\n",
    "    '''   \n",
    "    hdul = fits.open(IFU_filepath)\n",
    "    header = hdul['SCI'].header\n",
    "    wcs = WCS(header)\n",
    "    cube = SpectralCube.read(IFU_filepath, hdu='SCI')\n",
    "\n",
    "    # === CONVERT RA/DEC TO PIXEL COORDINATES ===\n",
    "    # Create SkyCoord object for spatial coordinates\n",
    "    if type(loc) == list:\n",
    "        spatial_coords = SkyCoord(ra=loc[0]*u.deg, dec=loc[1]*u.deg)\n",
    "    elif type(loc) == SkyCoord:\n",
    "        spatial_coords = loc\n",
    "    else:\n",
    "        print('loc is not a list of ra, dec and it is not a SkyCoord object.')\n",
    "        return None\n",
    "    \n",
    "    # Convert spatial coordinates to pixels\n",
    "    x, y = wcs.celestial.all_world2pix(spatial_coords.ra.deg, \n",
    "                                      spatial_coords.dec.deg, 0)\n",
    "    \n",
    "    # Get integer and fractional parts\n",
    "    x_int, y_int = int(np.floor(x)), int(np.floor(y))\n",
    "    x_frac, y_frac = x - x_int, y - y_int\n",
    "    \n",
    "    # Ensure we don't go out of bounds\n",
    "    x_max = cube.shape[2] - 1\n",
    "    y_max = cube.shape[1] - 1\n",
    "    \n",
    "    x0 = max(0, min(x_int, x_max))\n",
    "    x1 = max(0, min(x_int + 1, x_max))\n",
    "    y0 = max(0, min(y_int, y_max))\n",
    "    y1 = max(0, min(y_int + 1, y_max))\n",
    "    \n",
    "    # Get the four surrounding spectra\n",
    "    spec00 = cube[:, y0, x0]\n",
    "    spec01 = cube[:, y0, x1]\n",
    "    spec10 = cube[:, y1, x0]\n",
    "    spec11 = cube[:, y1, x1]\n",
    "    \n",
    "    # Perform bilinear interpolation\n",
    "    interpolated_spectrum = (spec00 * (1 - x_frac) * (1 - y_frac) +\n",
    "                            spec01 * x_frac * (1 - y_frac) +\n",
    "                            spec10 * (1 - x_frac) * y_frac +\n",
    "                            spec11 * x_frac * y_frac)\n",
    "    \n",
    "    return interpolated_spectrum"
   ]
  },
  {
   "cell_type": "code",
   "execution_count": null,
   "id": "7880ba9a-6131-41f2-ac56-46497c10abe8",
   "metadata": {},
   "outputs": [],
   "source": [
    "\n",
    "spectrum = find_point_spectrum(files[0], loc)\n",
    "wavelengths = spectrum.spectral_axis\n",
    "plt.plot(wavelengths[-2*first_end:], spectrum[-2*first_end:], color = 'red', label = 'channel 1')\n",
    "\n",
    "spectrum = find_point_spectrum(files[1], loc)\n",
    "wavelengths = spectrum.spectral_axis\n",
    "\n",
    "plt.plot(wavelengths[:2*second_start], spectrum[:2*second_start], color = 'orange', label = 'channel 2')\n",
    "plt.legend()\n",
    "plt.show()\n",
    "\n",
    "############################\n",
    "spectrum = find_point_spectrum(files[1], loc)\n",
    "wavelengths = spectrum.spectral_axis\n",
    "plt.plot(wavelengths[-2*second_end:], spectrum[-2*second_end:], color = 'orange', label = 'channel 2')\n",
    "\n",
    "spectrum = find_point_spectrum(files[2], loc)\n",
    "wavelengths = spectrum.spectral_axis\n",
    "plt.plot(wavelengths[:2*third_start], spectrum[:2*third_start], color = 'green', label = 'channel 3')\n",
    "plt.legend()\n",
    "plt.show()\n",
    "\n",
    "#######################\n",
    "spectrum = find_point_spectrum(files[2], loc)\n",
    "wavelengths = spectrum.spectral_axis\n",
    "plt.plot(wavelengths[-2*third_end:], spectrum[-2*third_end:], color = 'green', label = 'channel 3')\n",
    "\n",
    "spectrum = find_point_spectrum(files[3], loc)\n",
    "wavelengths = spectrum.spectral_axis\n",
    "plt.plot(wavelengths[:2*fourth_start], spectrum[:2*fourth_start], color = 'blue', label = 'channel 4')\n",
    "plt.legend()\n",
    "plt.show()"
   ]
  },
  {
   "cell_type": "code",
   "execution_count": 25,
   "id": "8c42a69e-4730-4321-be10-7ee624bd0c20",
   "metadata": {},
   "outputs": [],
   "source": [
    "starts = []\n",
    "ends = []\n",
    "for i,file in enumerate(IFU_files):\n",
    "    cube = SpectralCube.read(file, hdu='SCI')\n",
    "    starts.append(cube.spectral_axis[0].value*1e-6)\n",
    "    ends.append(cube.spectral_axis[-1].value*1e-6)\n",
    "    "
   ]
  },
  {
   "cell_type": "code",
   "execution_count": null,
   "id": "c2987c8f-8620-48c3-adb0-c88b8a070355",
   "metadata": {},
   "outputs": [],
   "source": [
    "plt.plot(combined_spectrum['wavelength'], combined_spectrum['intensity'])"
   ]
  },
  {
   "cell_type": "code",
   "execution_count": 17,
   "id": "7406f109-6c00-45d2-9468-f14321a8dc6b",
   "metadata": {},
   "outputs": [
    {
     "data": {
      "text/latex": [
       "$0.75\\mathrm{{}^{\\prime\\prime}}$"
      ],
      "text/plain": [
       "<Quantity 0.75 arcsec>"
      ]
     },
     "execution_count": 17,
     "metadata": {},
     "output_type": "execute_result"
    }
   ],
   "source": [
    "radius"
   ]
  },
  {
   "cell_type": "code",
   "execution_count": null,
   "id": "e3486e8b-35a7-450c-a631-9418f3500ac0",
   "metadata": {},
   "outputs": [],
   "source": []
  },
  {
   "cell_type": "code",
   "execution_count": null,
   "id": "5afb1d98-d30c-470a-9c4e-9b5054061777",
   "metadata": {},
   "outputs": [],
   "source": []
  },
  {
   "cell_type": "code",
   "execution_count": null,
   "id": "6da601bf-3608-4c52-8279-ec8d8abd48fd",
   "metadata": {},
   "outputs": [],
   "source": []
  },
  {
   "cell_type": "code",
   "execution_count": null,
   "id": "e73436a9-47d0-4eae-aafc-b465978f2ef8",
   "metadata": {},
   "outputs": [],
   "source": []
  }
 ],
 "metadata": {
  "kernelspec": {
   "display_name": "Python 3 (ipykernel)",
   "language": "python",
   "name": "python3"
  },
  "language_info": {
   "codemirror_mode": {
    "name": "ipython",
    "version": 3
   },
   "file_extension": ".py",
   "mimetype": "text/x-python",
   "name": "python",
   "nbconvert_exporter": "python",
   "pygments_lexer": "ipython3",
   "version": "3.11.7"
  }
 },
 "nbformat": 4,
 "nbformat_minor": 5
}
