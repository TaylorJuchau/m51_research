{
 "cells": [
  {
   "cell_type": "code",
   "execution_count": 1,
   "id": "eabc69f9-8cfb-43eb-a016-ac74ef863390",
   "metadata": {},
   "outputs": [],
   "source": [
    "from pathlib import Path\n",
    "import os\n",
    "\n",
    "home_directory = \"/d/ret1/Taylor/jupyter_notebooks/Research\" \n",
    "parent_dir = Path(home_directory).resolve() #TJ current notebook's parent directory\n",
    "os.chdir(parent_dir) #TJ change working directory to be the parent directory\n",
    "\n",
    "from Py_files.Image_vs_spectra import *"
   ]
  },
  {
   "cell_type": "code",
   "execution_count": 2,
   "id": "92cb1957-b33b-4375-875e-350cd605c120",
   "metadata": {},
   "outputs": [
    {
     "name": "stdout",
     "output_type": "stream",
     "text": [
      "IFU 2.870894885563757e-06 5.269494898093397e-06\n",
      "filter 3.96992e-06 4.13612e-06\n",
      "this worked\n"
     ]
    },
    {
     "data": {
      "text/plain": [
       "(1.0504833493028144e-29, 9.970190080407174e-30, 1.053624194554888)"
      ]
     },
     "execution_count": 2,
     "metadata": {},
     "output_type": "execute_result"
    }
   ],
   "source": [
    "\n",
    "\n",
    "IFU_filepath = 'Data_files/IFU_files/M51_SW_f290lp_g395m-f290lp_s3d.fits'\n",
    "filter_file = 'Data_files/JWST_filter_files/F405N.dat'\n",
    "image_filepath = 'Data_files/Image_files/ngc5194_nircam_lv3_f405n_i2d.fits'\n",
    "loc = [202.4340450, 47.1732517] \n",
    "radius = 0.75*u.arcsec\n",
    "compare_IFU_to_image(IFU_filepath, image_filepath, filter_file, loc, radius)"
   ]
  },
  {
   "cell_type": "code",
   "execution_count": null,
   "id": "83161d4c-7b74-4d92-ba3f-4f46a818bef0",
   "metadata": {},
   "outputs": [],
   "source": []
  },
  {
   "cell_type": "code",
   "execution_count": null,
   "id": "ed650cb4-10e0-4e8e-a34f-35a40742d884",
   "metadata": {},
   "outputs": [],
   "source": []
  }
 ],
 "metadata": {
  "kernelspec": {
   "display_name": "Python 3 (ipykernel)",
   "language": "python",
   "name": "python3"
  },
  "language_info": {
   "codemirror_mode": {
    "name": "ipython",
    "version": 3
   },
   "file_extension": ".py",
   "mimetype": "text/x-python",
   "name": "python",
   "nbconvert_exporter": "python",
   "pygments_lexer": "ipython3",
   "version": "3.11.7"
  }
 },
 "nbformat": 4,
 "nbformat_minor": 5
}
