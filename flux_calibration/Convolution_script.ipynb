{
 "cells": [
  {
   "cell_type": "code",
   "execution_count": 1,
   "id": "7888211d-28f0-4d29-9124-8eaefdf64f09",
   "metadata": {},
   "outputs": [
    {
     "name": "stderr",
     "output_type": "stream",
     "text": [
      "/tmp/ipykernel_93963/230208821.py:3: DeprecationWarning: \"\n",
      "        This message is for information only and WebbPSF will continue to function as normal.\n",
      "        The WebbPSF library has been moved/renamed to STPSF.\n",
      "        Please see https://stpsf.readthedocs.io/en/stable/ for more information.\n",
      "        WebbPSF is now an alias of STPSF and is running code from the STPSF library.\n",
      "        \n",
      "  import webbpsf\n"
     ]
    },
    {
     "name": "stdout",
     "output_type": "stream",
     "text": [
      "True\n",
      "/d/ret1/Taylor/stpsf-data/\n"
     ]
    }
   ],
   "source": [
    "import os\n",
    "os.environ[\"STPSF_PATH\"] = \"/d/ret1/Taylor/stpsf-data/\" \n",
    "import webbpsf\n",
    "os.environ[\"STPSF_PATH\"] = \"/d/ret1/Taylor/stpsf-data/\" #TJ for some reason this only works if you do this line twice... no idea why\n",
    "\n",
    "print(os.path.exists(os.environ[\"STPSF_PATH\"]))\n",
    "print(os.environ[\"STPSF_PATH\"]) #TJ check that this kernel has access to the filter files\n",
    "import numpy as np\n",
    "import matplotlib.pyplot as plt\n",
    "import glob\n",
    "import re\n",
    "import sys\n",
    "from astropy.io import fits\n",
    "from astropy.visualization import simple_norm, imshow_norm\n",
    "from ipywidgets import interact, Dropdown\n",
    "from astropy.wcs import WCS\n",
    "from astropy.constants import c\n",
    "from photutils.aperture import CircularAperture, aperture_photometry\n",
    "import astropy.units as u\n",
    "from astropy.table import Table\n",
    "from tabulate import tabulate\n",
    "from pathlib import Path\n",
    "from tqdm.notebook import tqdm\n",
    "from astropy.convolution import convolve_fft, Gaussian2DKernel\n",
    "\n",
    "\n",
    "#parent_dir = Path().resolve().parent #TJ current notebook's parent directory\n",
    "\n",
    "os.chdir('/d/ret1/Taylor/jupyter_notebooks/Research') #TJ change working directory to be the parent directory\n",
    "from Py_files.Basic_analysis import * #import basic functions from custom package\n",
    "from Py_files.Image_vs_spectra import * \n",
    "#TJ import flux calibration functions (mainly compare_IFU_to_image(IFU_filepath, image_filepath, filter_filepath, loc, radius))\n",
    "\n",
    "def convolve(IFU_fits_file, instrument, filter, output_file = None):\n",
    "    '''Convolve an IFU cube to the PSF of the provided filter.\n",
    "    -------------\n",
    "    \n",
    "    Parameters\n",
    "    -------------\n",
    "    IFU_fits_file : type = str - string to location of IFU fits that you want to convolve.\n",
    "    instrument : type = str - Either \"MIRI\" or \"NIRCam\" depending on wavelength\n",
    "    filter : type = str - string describing the filter name (case sensitive), for example \"F335M\"\n",
    "    output_file (optional, defaults to use the IFU_file with _convolved_to_{filter}) : type = str - name of the convolved file\n",
    "    \n",
    "    Returns\n",
    "    -------------\n",
    "    Path to newly convolved file as a string\n",
    "    '''   \n",
    "\n",
    "    IFU_hdul = fits.open(IFU_fits_file)\n",
    "    header = IFU_hdul[\"SCI\"].header\n",
    "    cube = SpectralCube.read(IFU_fits_file, hdu='SCI')\n",
    "    spectral_axis = cube.spectral_axis  #TJ in meters\n",
    "    # === Load webbpsf instrument ===\n",
    "    if instrument == 'NIRCam':\n",
    "        inst = webbpsf.NIRCam()\n",
    "    elif instrument == \"MIRI\":\n",
    "        inst = webbpsf.MIRI()\n",
    "    inst.filter = filter\n",
    "\n",
    "    # === Prepare output cube ===\n",
    "    convolved_data = np.zeros_like(cube.unmasked_data[:].value)\n",
    "    tqdm_kwargs = {\n",
    "        'dynamic_ncols': True,  # Auto-adjusts width\n",
    "        'mininterval': 0.5,     # Update every 0.5 seconds (optional)\n",
    "        'position': 0,          # Fix position (set to 0 for notebooks)\n",
    "        'leave': True           # Leaves progress bar after completion\n",
    "    }\n",
    "    # === Loop through wavelengths and convolve ===\n",
    "    for i, wavelength in enumerate(tqdm(spectral_axis, desc=f\"Convolving to {filter}\")):\n",
    "        psf = inst.calc_psf(monochromatic=wavelength.to(u.m).value)    \n",
    "        psf_data = psf[0].data\n",
    "        psf_data /= psf_data.sum()  # Normalize PSF to conserve flux\n",
    "    \n",
    "        image_slice = cube.filled_data[...].value[i]  # 2D image at this wavelength\n",
    "        convolved_slice = convolve_fft(image_slice, psf_data, normalize_kernel=True, boundary='fill', fill_value=0)\n",
    "        convolved_data[i] = convolved_slice\n",
    "    \n",
    "    # === Save the convolved cube ===\n",
    "    out_hdu = fits.PrimaryHDU(convolved_data, header=header)\n",
    "    if output_file:\n",
    "        out_hdu.writeto(f\"Data_files/IFU_files/{output_file}\", overwrite=True)\n",
    "        print(f\"✅ PSF convolution complete and saved as {output_file}\")\n",
    "        return f\"Data_files/IFU_files/{output_file}\"\n",
    "    else:\n",
    "        out_hdu.writeto(f\"Data_files/IFU_files/{IFU_fits_file}_convolved_to_{filter}.fits\", overwrite=True)\n",
    "        print(f\"✅ PSF convolution complete and saved as {IFU_fits_file}_convolved_to_{filter}\")\n",
    "        return f\"Data_files/IFU_files/{IFU_fits_file}_convolved_to_{filter}.fits\"\n",
    "\n",
    "        \n",
    "    \n"
   ]
  },
  {
   "cell_type": "code",
   "execution_count": 2,
   "id": "8decd32b-f07f-47dc-8020-9be0b3883fef",
   "metadata": {},
   "outputs": [
    {
     "data": {
      "application/vnd.jupyter.widget-view+json": {
       "model_id": "a86669d2943544dba681b26c09b37798",
       "version_major": 2,
       "version_minor": 0
      },
      "text/plain": [
       "Processing:   0%|          | 0/1341 [00:00<?, ?it/s]"
      ]
     },
     "metadata": {},
     "output_type": "display_data"
    },
    {
     "name": "stdout",
     "output_type": "stream",
     "text": [
      "✅ PSF convolution complete and saved as 'M51_IFU_convolved.fits'\n"
     ]
    },
    {
     "data": {
      "application/vnd.jupyter.widget-view+json": {
       "model_id": "6f8d2f2acf6143a1934d1e3d70e88cdc",
       "version_major": 2,
       "version_minor": 0
      },
      "text/plain": [
       "Processing:   0%|          | 0/1341 [00:00<?, ?it/s]"
      ]
     },
     "metadata": {},
     "output_type": "display_data"
    },
    {
     "name": "stdout",
     "output_type": "stream",
     "text": [
      "✅ PSF convolution complete and saved as 'M51_IFU_convolved.fits'\n"
     ]
    },
    {
     "data": {
      "application/vnd.jupyter.widget-view+json": {
       "model_id": "0129138f394d4916bef43dddb77e7b27",
       "version_major": 2,
       "version_minor": 0
      },
      "text/plain": [
       "Processing:   0%|          | 0/1341 [00:00<?, ?it/s]"
      ]
     },
     "metadata": {},
     "output_type": "display_data"
    },
    {
     "name": "stdout",
     "output_type": "stream",
     "text": [
      "✅ PSF convolution complete and saved as 'M51_IFU_convolved.fits'\n"
     ]
    },
    {
     "data": {
      "application/vnd.jupyter.widget-view+json": {
       "model_id": "fdcdd179d12b4409927264b6698867a0",
       "version_major": 2,
       "version_minor": 0
      },
      "text/plain": [
       "Processing:   0%|          | 0/1341 [00:00<?, ?it/s]"
      ]
     },
     "metadata": {},
     "output_type": "display_data"
    },
    {
     "name": "stdout",
     "output_type": "stream",
     "text": [
      "✅ PSF convolution complete and saved as 'M51_IFU_convolved.fits'\n"
     ]
    },
    {
     "data": {
      "application/vnd.jupyter.widget-view+json": {
       "model_id": "1b09ed27ced844e3affd269e577f65af",
       "version_major": 2,
       "version_minor": 0
      },
      "text/plain": [
       "Processing:   0%|          | 0/1341 [00:00<?, ?it/s]"
      ]
     },
     "metadata": {},
     "output_type": "display_data"
    },
    {
     "name": "stdout",
     "output_type": "stream",
     "text": [
      "✅ PSF convolution complete and saved as 'M51_IFU_convolved.fits'\n"
     ]
    },
    {
     "data": {
      "application/vnd.jupyter.widget-view+json": {
       "model_id": "075f3eedce36486892bc84c407866f65",
       "version_major": 2,
       "version_minor": 0
      },
      "text/plain": [
       "Processing:   0%|          | 0/3438 [00:00<?, ?it/s]"
      ]
     },
     "metadata": {},
     "output_type": "display_data"
    },
    {
     "name": "stdout",
     "output_type": "stream",
     "text": [
      "✅ PSF convolution complete and saved as 'M51_IFU_convolved.fits'\n"
     ]
    },
    {
     "data": {
      "application/vnd.jupyter.widget-view+json": {
       "model_id": "538cfa83a4394ce7b6b6bf97e884a480",
       "version_major": 2,
       "version_minor": 0
      },
      "text/plain": [
       "Processing:   0%|          | 0/3224 [00:00<?, ?it/s]"
      ]
     },
     "metadata": {},
     "output_type": "display_data"
    },
    {
     "name": "stdout",
     "output_type": "stream",
     "text": [
      "✅ PSF convolution complete and saved as 'M51_IFU_convolved.fits'\n"
     ]
    },
    {
     "data": {
      "application/vnd.jupyter.widget-view+json": {
       "model_id": "2571fd7afde940b9814e952482921b61",
       "version_major": 2,
       "version_minor": 0
      },
      "text/plain": [
       "Processing:   0%|          | 0/3224 [00:00<?, ?it/s]"
      ]
     },
     "metadata": {},
     "output_type": "display_data"
    },
    {
     "name": "stdout",
     "output_type": "stream",
     "text": [
      "✅ PSF convolution complete and saved as 'M51_IFU_convolved.fits'\n"
     ]
    },
    {
     "data": {
      "application/vnd.jupyter.widget-view+json": {
       "model_id": "97f3df5e27674a9282ccaadcd277d933",
       "version_major": 2,
       "version_minor": 0
      },
      "text/plain": [
       "Processing:   0%|          | 0/2572 [00:00<?, ?it/s]"
      ]
     },
     "metadata": {},
     "output_type": "display_data"
    },
    {
     "name": "stdout",
     "output_type": "stream",
     "text": [
      "✅ PSF convolution complete and saved as 'M51_IFU_convolved.fits'\n"
     ]
    },
    {
     "data": {
      "application/vnd.jupyter.widget-view+json": {
       "model_id": "d51379d413d94be9ba1b7065bec1c976",
       "version_major": 2,
       "version_minor": 0
      },
      "text/plain": [
       "Processing:   0%|          | 0/2572 [00:00<?, ?it/s]"
      ]
     },
     "metadata": {},
     "output_type": "display_data"
    },
    {
     "name": "stdout",
     "output_type": "stream",
     "text": [
      "✅ PSF convolution complete and saved as 'M51_IFU_convolved.fits'\n"
     ]
    },
    {
     "data": {
      "application/vnd.jupyter.widget-view+json": {
       "model_id": "604dbea66e60435db73bdb1bcfff4d11",
       "version_major": 2,
       "version_minor": 0
      },
      "text/plain": [
       "Processing:   0%|          | 0/2572 [00:00<?, ?it/s]"
      ]
     },
     "metadata": {},
     "output_type": "display_data"
    },
    {
     "name": "stdout",
     "output_type": "stream",
     "text": [
      "✅ PSF convolution complete and saved as 'M51_IFU_convolved.fits'\n"
     ]
    },
    {
     "data": {
      "application/vnd.jupyter.widget-view+json": {
       "model_id": "c93578007718498a9b1c19fff55ae00c",
       "version_major": 2,
       "version_minor": 0
      },
      "text/plain": [
       "Processing:   0%|          | 0/1834 [00:00<?, ?it/s]"
      ]
     },
     "metadata": {},
     "output_type": "display_data"
    },
    {
     "name": "stdout",
     "output_type": "stream",
     "text": [
      "✅ PSF convolution complete and saved as 'M51_IFU_convolved.fits'\n"
     ]
    },
    {
     "data": {
      "application/vnd.jupyter.widget-view+json": {
       "model_id": "2777828a64d94e638c9b07bf2bb5fdf8",
       "version_major": 2,
       "version_minor": 0
      },
      "text/plain": [
       "Processing:   0%|          | 0/1834 [00:00<?, ?it/s]"
      ]
     },
     "metadata": {},
     "output_type": "display_data"
    },
    {
     "name": "stdout",
     "output_type": "stream",
     "text": [
      "✅ PSF convolution complete and saved as 'M51_IFU_convolved.fits'\n"
     ]
    }
   ],
   "source": [
    "# === User Inputs ===\n",
    "\n",
    "if __name__ == \"__main__\":\n",
    "    #TJ add the path to psf data files if needed (may need to go back through adding the path in terminal)\n",
    "    #filters = ['F335M', 'F360M', 'F405N', 'F430M', 'F444W']\n",
    "    filters = ['F335M', 'F360M', 'F405N', 'F430M', 'F444W', 'F560W', 'F770W', 'F1000W', 'F1130W', 'F1280W', 'F1500W', 'F1800W', 'F2100W'] \n",
    "    # === Set up ===\n",
    "    \n",
    "    for filter in filters:\n",
    "        if filter in ['F335M', 'F360M', 'F405N', 'F430M', 'F444W']:\n",
    "            IFU_filepath = \"Data_files/IFU_files/M51_SW_f290lp_g395m-f290lp_s3d.fits\"\n",
    "            instrument = 'NIRCam'  # or 'MIRI' if using MIRI cube\n",
    "        if filter in ['F560W']:\n",
    "            IFU_filepath = 'Data_files/IFU_files/SW_IFU_ch1-shortmediumlong_s3d.fits'\n",
    "            instrument = \"MIRI\"\n",
    "        if filter in ['F770W', 'F1000W']:\n",
    "            IFU_filepath = 'Data_files/IFU_files/SW_IFU_ch2-shortmediumlong_s3d.fits'\n",
    "            instrument = \"MIRI\"\n",
    "        if filter in ['F1130W', 'F1280W', 'F1500W']:\n",
    "            IFU_filepath = 'Data_files/IFU_files/SW_IFU_ch3-shortmediumlong_s3d.fits'\n",
    "            instrument = \"MIRI\"\n",
    "        if filter in ['F1800W', 'F2100W']:\n",
    "            IFU_filepath = 'Data_files/IFU_files/SW_IFU_ch4-shortmediumlong_s3d.fits'\n",
    "            instrument = \"MIRI\"\n",
    "            \n",
    "        IFU_hdul = fits.open(IFU_filepath)\n",
    "        header = IFU_hdul[\"SCI\"].header\n",
    "        cube = SpectralCube.read(IFU_filepath, hdu='SCI')\n",
    "        wcs = WCS(header)\n",
    "        spectral_axis = cube.spectral_axis  #TJ in meters\n",
    "        # === Load webbpsf instrument ===\n",
    "        if instrument == 'NIRCam':\n",
    "            inst = webbpsf.NIRCam()\n",
    "        elif instrument == \"MIRI\":\n",
    "            inst = webbpsf.MIRI()\n",
    "        inst.filter = filter\n",
    "    \n",
    "        # === Prepare output cube ===\n",
    "        convolved_data = np.zeros_like(cube.unmasked_data[:].value)\n",
    "        tqdm_kwargs = {\n",
    "            'dynamic_ncols': True,  # Auto-adjusts width\n",
    "            'mininterval': 0.5,     # Update every 0.5 seconds (optional)\n",
    "            'position': 0,          # Fix position (set to 0 for notebooks)\n",
    "            'leave': True           # Leaves progress bar after completion\n",
    "        }\n",
    "        # === Loop through wavelengths and convolve ===\n",
    "        for i, wavelength in enumerate(tqdm(spectral_axis, desc=f\"Convolving to {filter}\")):\n",
    "            psf = inst.calc_psf(monochromatic=wavelength.to(u.m).value)    \n",
    "            psf_data = psf[0].data\n",
    "            psf_data /= psf_data.sum()  # Normalize PSF to conserve flux\n",
    "        \n",
    "            image_slice = cube.filled_data[...].value[i]  # 2D image at this wavelength\n",
    "            convolved_slice = convolve_fft(image_slice, psf_data, normalize_kernel=True, boundary='fill', fill_value=0)\n",
    "            convolved_data[i] = convolved_slice\n",
    "        \n",
    "        # === Save the convolved cube ===\n",
    "        out_hdu = fits.PrimaryHDU(convolved_data, header=header)\n",
    "        out_hdu.writeto(f\"Data_files/IFU_files/M51_IFU_convolved_to_{inst.filter}.fits\", overwrite=True)\n",
    "        \n",
    "        print(\"✅ PSF convolution complete and saved as 'M51_IFU_convolved.fits'\")\n"
   ]
  },
  {
   "cell_type": "code",
   "execution_count": null,
   "id": "9ef5ae93-6b1e-4746-a62e-ff73dbf32997",
   "metadata": {},
   "outputs": [],
   "source": []
  },
  {
   "cell_type": "code",
   "execution_count": 3,
   "id": "036871f0-a15c-47e4-bab1-3af7af19013a",
   "metadata": {},
   "outputs": [],
   "source": []
  },
  {
   "cell_type": "code",
   "execution_count": 4,
   "id": "1ca8ecf6-d460-472c-a287-1e5af5d2240f",
   "metadata": {},
   "outputs": [
    {
     "data": {
      "text/latex": [
       "$[2.8708949,~2.8726849,~2.8744749,~\\dots,~5.2659149,~5.2677049,~5.2694949] \\; \\mathrm{\\mu m}$"
      ],
      "text/plain": [
       "<Quantity [2.87089489, 2.87268489, 2.87447489, ..., 5.2659149 , 5.2677049 ,\n",
       "           5.2694949 ] um>"
      ]
     },
     "execution_count": 4,
     "metadata": {},
     "output_type": "execute_result"
    }
   ],
   "source": []
  },
  {
   "cell_type": "code",
   "execution_count": 5,
   "id": "729060ab-0174-4752-9be8-4371b1509d4f",
   "metadata": {},
   "outputs": [
    {
     "data": {
      "text/plain": [
       "'F2100W'"
      ]
     },
     "execution_count": 5,
     "metadata": {},
     "output_type": "execute_result"
    }
   ],
   "source": []
  },
  {
   "cell_type": "code",
   "execution_count": 6,
   "id": "de8b2777-744d-4ad0-b5fc-8e579f16aeaa",
   "metadata": {},
   "outputs": [],
   "source": []
  },
  {
   "cell_type": "code",
   "execution_count": 7,
   "id": "2a77871d-2231-4bb4-b863-79a30e536649",
   "metadata": {},
   "outputs": [],
   "source": []
  },
  {
   "cell_type": "code",
   "execution_count": 8,
   "id": "b3cad162-a160-4800-86a5-bfaa467c5357",
   "metadata": {},
   "outputs": [
    {
     "data": {
      "text/plain": [
       "['F115W',\n",
       " 'F140M',\n",
       " 'F150W',\n",
       " 'F164N',\n",
       " 'F182M',\n",
       " 'F187N',\n",
       " 'F200W',\n",
       " 'F210M',\n",
       " 'F212N',\n",
       " 'F250M',\n",
       " 'F300M',\n",
       " 'F335M',\n",
       " 'F360M',\n",
       " 'F405N',\n",
       " 'F430M',\n",
       " 'F444W',\n",
       " 'F560W',\n",
       " 'F770W',\n",
       " 'F1000W',\n",
       " 'F1130W',\n",
       " 'F1280W',\n",
       " 'F1500W',\n",
       " 'F1800W',\n",
       " 'F2100W']"
      ]
     },
     "execution_count": 8,
     "metadata": {},
     "output_type": "execute_result"
    }
   ],
   "source": []
  },
  {
   "cell_type": "code",
   "execution_count": 9,
   "id": "e843d5f5-9363-426a-86f9-574b09b2918f",
   "metadata": {},
   "outputs": [
    {
     "data": {
      "text/plain": [
       "<stpsf.stpsf_core.MIRI at 0x7fbc3544d050>"
      ]
     },
     "execution_count": 9,
     "metadata": {},
     "output_type": "execute_result"
    }
   ],
   "source": []
  },
  {
   "cell_type": "code",
   "execution_count": null,
   "id": "0683383d-543e-4625-a942-a87a3d611df6",
   "metadata": {},
   "outputs": [],
   "source": []
  }
 ],
 "metadata": {
  "kernelspec": {
   "display_name": "Python 3 (ipykernel)",
   "language": "python",
   "name": "python3"
  },
  "language_info": {
   "codemirror_mode": {
    "name": "ipython",
    "version": 3
   },
   "file_extension": ".py",
   "mimetype": "text/x-python",
   "name": "python",
   "nbconvert_exporter": "python",
   "pygments_lexer": "ipython3",
   "version": "3.11.7"
  }
 },
 "nbformat": 4,
 "nbformat_minor": 5
}
