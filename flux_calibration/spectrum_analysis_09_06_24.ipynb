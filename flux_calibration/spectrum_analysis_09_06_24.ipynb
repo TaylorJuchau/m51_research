{
 "cells": [
  {
   "cell_type": "code",
   "execution_count": 1,
   "id": "4d39febf",
   "metadata": {},
   "outputs": [],
   "source": [
    "import numpy as np\n",
    "import matplotlib.pyplot as plt\n",
    "import os\n",
    "import pandas as pd\n",
    "SED = 'Data_files/ARM2_HII2_stitch.dat'\n",
    "raw_file = np.genfromtxt('Data_files/intrat.out_1e3_8e3', skip_header = 3)\n",
    "column_names = ['WL (microns)', 'flux density', 'transition (from, to)', 'electron density', 'effective temperature']\n",
    "WL_reduced = raw_file[:,0]\n",
    "flux_reduced = raw_file[:,1]\n",
    "transition_reduced = []\n",
    "for i in range(0,len(flux_reduced)):\n",
    "    transition_reduced.append([raw_file[i,3],raw_file[i,5]])\n",
    "e_density = raw_file[0,7]\n",
    "Teff = raw_file[0,9]"
   ]
  },
  {
   "cell_type": "code",
   "execution_count": 4,
   "id": "9d9932f2",
   "metadata": {},
   "outputs": [
    {
     "name": "stdout",
     "output_type": "stream",
     "text": [
      "[7.0, 3.0]\n",
      "8.533e-27\n"
     ]
    },
    {
     "ename": "NameError",
     "evalue": "name 'get_transition_flux' is not defined",
     "output_type": "error",
     "traceback": [
      "\u001b[0;31m---------------------------------------------------------------------------\u001b[0m",
      "\u001b[0;31mNameError\u001b[0m                                 Traceback (most recent call last)",
      "Cell \u001b[0;32mIn[4], line 3\u001b[0m\n\u001b[1;32m      1\u001b[0m \u001b[38;5;28mprint\u001b[39m(transition_reduced[\u001b[38;5;241m1\u001b[39m])\n\u001b[1;32m      2\u001b[0m \u001b[38;5;28mprint\u001b[39m(flux_reduced[\u001b[38;5;241m1\u001b[39m])\n\u001b[0;32m----> 3\u001b[0m \u001b[38;5;28mprint\u001b[39m(get_transition_flux(\u001b[38;5;241m4\u001b[39m,\u001b[38;5;241m3\u001b[39m))\n\u001b[1;32m      4\u001b[0m \u001b[38;5;28mprint\u001b[39m(get_transition_flux(\u001b[38;5;241m5\u001b[39m,\u001b[38;5;241m3\u001b[39m))\n\u001b[1;32m      5\u001b[0m \u001b[38;5;28mprint\u001b[39m(get_ratio(\u001b[38;5;241m5\u001b[39m,\u001b[38;5;241m3\u001b[39m,\u001b[38;5;241m4\u001b[39m,\u001b[38;5;241m3\u001b[39m))\n",
      "\u001b[0;31mNameError\u001b[0m: name 'get_transition_flux' is not defined"
     ]
    }
   ],
   "source": [
    "print(transition_reduced[1])\n",
    "print(flux_reduced[1])\n",
    "print(get_transition_flux(4,3))\n",
    "print(get_transition_flux(5,3))\n",
    "print(get_ratio(5,3,4,3))\n",
    "a = []\n",
    "a.append('string')\n",
    "print(a)"
   ]
  },
  {
   "cell_type": "code",
   "execution_count": 5,
   "id": "a6e47258",
   "metadata": {},
   "outputs": [
    {
     "name": "stdout",
     "output_type": "stream",
     "text": [
      "5.368e-26\n",
      "2.544e-26\n",
      "2.110062893081761\n"
     ]
    }
   ],
   "source": [
    "def get_transition_flux(From, To):\n",
    "    answer = []\n",
    "    for i in range(0,len(transition_reduced)):\n",
    "        if transition_reduced[i][0]==From and transition_reduced[i][1]==To:\n",
    "            answer.append(flux_reduced[i])\n",
    "    if len(answer)>1:\n",
    "        print(f'Multiple fluxes recorded as {From} -> {To} transitions')\n",
    "        return answer\n",
    "    elif len(answer)==0:\n",
    "        if To <3:\n",
    "            print('Only Balmer and above final energy levels are included in this dataset')\n",
    "        print(f'No results detected for {From} -> {To} transition')\n",
    "    else:\n",
    "        return answer[0]\n",
    "print(get_transition_flux(4,3))\n",
    "print(get_transition_flux(5,3))\n",
    "def get_ratio(From_numerator, To_numerator, From_denominator, To_denominator):\n",
    "    return get_transition_flux(From_numerator,To_numerator)/get_transition_flux(From_denominator,To_denominator)\n",
    "print(get_ratio(4,3,5,3))\n"
   ]
  },
  {
   "cell_type": "code",
   "execution_count": 6,
   "id": "ef869043",
   "metadata": {},
   "outputs": [
    {
     "name": "stdout",
     "output_type": "stream",
     "text": [
      "H 7-3 Pa delta 1.0049 -> 1.0066\n"
     ]
    }
   ],
   "source": [
    "# Function to import the dataset and process it\n",
    "def import_data(file_path):\n",
    "    data_list = []\n",
    "\n",
    "    # Open the file and process each line manually\n",
    "    with open(file_path, 'r') as file:\n",
    "        # Read the header (first line)\n",
    "        header = file.readline().strip().split()\n",
    "\n",
    "        # Process each line\n",
    "        for line in file:\n",
    "            # Split the line into parts (split at spaces)\n",
    "            parts = line.strip().split(maxsplit=4)\n",
    "            \n",
    "            # If the 5th part (notes) is missing, append NaN\n",
    "            if len(parts) < 5:\n",
    "                parts.append(np.nan)\n",
    "            \n",
    "            data_list.append(parts)\n",
    "\n",
    "    # Convert the list into a pandas DataFrame\n",
    "    data = pd.DataFrame(data_list, columns=header)\n",
    "\n",
    "    # Convert the DataFrame to a NumPy array\n",
    "    data_array = data.to_numpy()\n",
    "\n",
    "    return data_array\n",
    "\n",
    "# Example usage: provide the path to the .dat file\n",
    "data_array = import_data(SED)\n",
    "\n",
    "print(data_array[58,4])\n",
    "mask = data_array[:,3].astype(int)\n",
    "WL = data_array[:,0].astype(float)\n",
    "WL_masked = np.where(mask == 1, WL, np.nan)\n",
    "intens = data_array[:,1].astype(float)\n",
    "intens_masked = np.where(mask == 1, intens, np.nan)\n",
    "\n",
    "intens_uncert = data_array[:,2].astype(float)\n",
    "intens_uncert_masked = np.where(mask == 1, intens_uncert, np.nan)\n",
    "\n",
    "notes = data_array[:,4]\n",
    "\n",
    "def gaussian_func(x, amplitude, xmean, stddev):\n",
    "    return (amplitude * np.exp(-0.5 * ((x - xmean) / stddev)**2)) + 1\n",
    "def find_closest_index(h_WL):\n",
    "    # Calculate the absolute difference between each element in WL and h_WL\n",
    "    difference = np.abs(WL - h_WL)\n",
    "    \n",
    "    # Find the index of the minimum difference\n",
    "    closest_index = np.argmin(difference)\n",
    "    \n",
    "    return closest_index\n"
   ]
  },
  {
   "cell_type": "code",
   "execution_count": null,
   "id": "65a6a1a7",
   "metadata": {},
   "outputs": [],
   "source": []
  },
  {
   "cell_type": "code",
   "execution_count": 12,
   "id": "9a6adb66",
   "metadata": {},
   "outputs": [
    {
     "data": {
      "image/png": "[encoded data removed]",
      "text/plain": [
       "<Figure size 640x480 with 1 Axes>"
      ]
     },
     "metadata": {},
     "output_type": "display_data"
    }
   ],
   "source": [
    "start = 0\n",
    "end = len(WL)\n",
    "mask_test = mask[start:end]\n",
    "WL_test = WL[start:end]\n",
    "WL_test_masked = np.where(mask_test == 1, WL_test, np.nan)\n",
    "\n",
    "intens_test = intens[start:end]\n",
    "intens_test_masked = np.where(mask_test == 1, intens_test, np.nan)\n",
    "\n",
    "mask_test = mask[start:end]\n",
    "xrange = range(0,len(intens_test))\n",
    "#plt.plot(WL_test_masked, intens_test_masked, linewidth = 1, color = 'red')\n",
    "plt.plot(WL_test, intens_test, linewidth = 0.5, color = 'blue')\n",
    "plt.axvline(x=1.875621, color='orange', linestyle='--', linewidth=0.5, label = '32 min 3rd harmonic')\n",
    "\n",
    "plt.show()"
   ]
  },
  {
   "cell_type": "code",
   "execution_count": 8,
   "id": "7696445f",
   "metadata": {},
   "outputs": [
    {
     "name": "stdout",
     "output_type": "stream",
     "text": [
      "Target wavelength was not part of a feature, trying next wavelength...\n",
      "could not identify feature at this wavelength 0.954861\n",
      "The area under the emission feature at 0.954861microns is: None\n",
      "Target wavelength was not part of a feature, trying next wavelength...\n",
      "The area under the emission feature at 1.005215microns is: 0.02894425505999746\n",
      "Target wavelength was not part of a feature, trying next wavelength...\n",
      "The area under the emission feature at 1.094112microns is: 0.04358933166000091\n",
      "Target wavelength was not part of a feature, trying next wavelength...\n",
      "The area under the emission feature at 1.282163microns is: 0.1108085150999943\n",
      "Target wavelength was not part of a feature, trying next wavelength...\n",
      "The area under the emission feature at 1.875621microns is: 0.5596497206760062\n",
      "Target wavelength was not part of a feature, trying next wavelength...\n",
      "could not identify feature at this wavelength 1.468603\n",
      "The area under the emission feature at 1.468603microns is: None\n",
      "Target wavelength was not part of a feature, trying next wavelength...\n",
      "could not identify feature at this wavelength 1.469018\n",
      "The area under the emission feature at 1.469018microns is: None\n",
      "Target wavelength was not part of a feature, trying next wavelength...\n",
      "could not identify feature at this wavelength 1.46946\n",
      "The area under the emission feature at 1.46946microns is: None\n",
      "Target wavelength was not part of a feature, trying next wavelength...\n",
      "could not identify feature at this wavelength 1.469931\n",
      "The area under the emission feature at 1.469931microns is: None\n",
      "Target wavelength was not part of a feature, trying next wavelength...\n",
      "could not identify feature at this wavelength 1.470434\n",
      "The area under the emission feature at 1.470434microns is: None\n"
     ]
    },
    {
     "data": {
      "text/plain": [
       "348.2473"
      ]
     },
     "execution_count": 8,
     "metadata": {},
     "output_type": "execute_result"
    }
   ],
   "source": [
    "def get_feature_flux(target_WL):\n",
    "    closest_index = np.argmin(np.abs(WL - target_WL))\n",
    "    if mask[closest_index]==0:\n",
    "        counter = 0\n",
    "        print(\"Target wavelength was not part of a feature, trying next wavelength...\")\n",
    "        while mask[closest_index]==0 and counter < 3:\n",
    "            closest_index+=1\n",
    "            counter +=1\n",
    "    if counter == 3:\n",
    "        print(f\"could not identify feature at this wavelength {target_WL}\")\n",
    "        return None\n",
    "    start_index = closest_index\n",
    "    end_index = closest_index\n",
    "    while start_index > 0 and mask[start_index] == 1:\n",
    "        start_index -= 1\n",
    "    # Correct the index to include the first valid point\n",
    "    if mask[start_index] == 0:\n",
    "        start_index += 1\n",
    "    \n",
    "    # Search to the right (increasing index) until a 0 in the mask is found\n",
    "    while end_index < len(WL) - 1 and mask[end_index] == 1:\n",
    "        end_index += 1\n",
    "    # Correct the index to include the last valid point\n",
    "    if mask[end_index] == 0:\n",
    "        end_index -= 1\n",
    "    \n",
    "    # Extract the wavelengths part of the feature\n",
    "    WL_feature = WL[start_index:end_index + 1]\n",
    "    \n",
    "    flux = np.trapz(intens[start_index:end_index+1], WL_feature)\n",
    "\n",
    "    return flux\n",
    "for i in range(0,10):\n",
    "    \n",
    "    flux = get_feature_flux(WL_reduced[i])\n",
    "    print(f\"The area under the emission feature at {WL_reduced[i]}microns is: {flux}\")\n",
    "\n",
    "def find_max(minimum, maximum):\n",
    "    find_max_mask = (WL >= minimum) & (WL <= maximum)\n",
    "    return np.max(intens[find_max_mask])\n",
    "find_max(1.80,1.90)"
   ]
  },
  {
   "cell_type": "code",
   "execution_count": null,
   "id": "03240a63",
   "metadata": {},
   "outputs": [],
   "source": [
    "WL_reduced[0]"
   ]
  },
  {
   "cell_type": "code",
   "execution_count": null,
   "id": "ce27ac74",
   "metadata": {},
   "outputs": [],
   "source": []
  },
  {
   "cell_type": "code",
   "execution_count": null,
   "id": "a32ac6db",
   "metadata": {},
   "outputs": [],
   "source": []
  },
  {
   "cell_type": "code",
   "execution_count": null,
   "id": "ca78243b",
   "metadata": {},
   "outputs": [],
   "source": []
  },
  {
   "cell_type": "code",
   "execution_count": null,
   "id": "b05ffe05",
   "metadata": {},
   "outputs": [],
   "source": []
  },
  {
   "cell_type": "code",
   "execution_count": null,
   "id": "ae28f23d",
   "metadata": {},
   "outputs": [],
   "source": []
  },
  {
   "cell_type": "code",
   "execution_count": null,
   "id": "d8f83a44",
   "metadata": {},
   "outputs": [],
   "source": []
  },
  {
   "cell_type": "code",
   "execution_count": null,
   "id": "7b15671b",
   "metadata": {},
   "outputs": [],
   "source": []
  }
 ],
 "metadata": {
  "kernelspec": {
   "display_name": "Python 3 (ipykernel)",
   "language": "python",
   "name": "python3"
  },
  "language_info": {
   "codemirror_mode": {
    "name": "ipython",
    "version": 3
   },
   "file_extension": ".py",
   "mimetype": "text/x-python",
   "name": "python",
   "nbconvert_exporter": "python",
   "pygments_lexer": "ipython3",
   "version": "3.11.7"
  }
 },
 "nbformat": 4,
 "nbformat_minor": 5
}
